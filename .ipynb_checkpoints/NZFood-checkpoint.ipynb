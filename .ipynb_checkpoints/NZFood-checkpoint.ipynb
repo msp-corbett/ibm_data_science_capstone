{
 "cells": [
  {
   "cell_type": "markdown",
   "metadata": {},
   "source": [
    "# Wellington: NZ's Food Capital?"
   ]
  },
  {
   "cell_type": "markdown",
   "metadata": {},
   "source": [
    "## 1 Introduction"
   ]
  },
  {
   "cell_type": "markdown",
   "metadata": {},
   "source": [
    "### 1.1 Background"
   ]
  },
  {
   "cell_type": "code",
   "execution_count": null,
   "metadata": {},
   "outputs": [],
   "source": [
    "A description of the problem and a discussion of the background. (15 marks)"
   ]
  },
  {
   "cell_type": "markdown",
   "metadata": {},
   "source": [
    "Wellington is the capital city of New Zealand (NZ). It also has the reputation of being NZ's 'Food Capital', and even desribed as world's best food city [1, 2, 3]. Compared to NZ's most populated city, Auckland, Wellington is geographically compact, 607 km^2 and 303 km^2 respectively [4, 5]. What I am interested in testing is, does the geographical contraints, specifically population density, of Wellington contribute to its 'Food Scence' using Auckland as a comparison? Understanding if cities truely have unqiue food experiences is essential for maintaining the image and repuation of a city for tourism."
   ]
  },
  {
   "cell_type": "markdown",
   "metadata": {},
   "source": [
    "### 1.2 Datasets"
   ]
  },
  {
   "cell_type": "code",
   "execution_count": null,
   "metadata": {},
   "outputs": [],
   "source": [
    "A description of the data and how it will be used to solve the problem. (15 marks)"
   ]
  },
  {
   "cell_type": "markdown",
   "metadata": {},
   "source": [
    "I will be using two datasets:\n",
    "\n",
    "1 - venue information available via the Foursquare API. Specifically, the venue category, location and likes.\n",
    "\n",
    "2 - Population information for Wellington and Auckland suburbs available via the 'City Population' website [6, 7].\n"
   ]
  },
  {
   "cell_type": "markdown",
   "metadata": {},
   "source": [
    "## 2 Methodology"
   ]
  },
  {
   "cell_type": "markdown",
   "metadata": {},
   "source": [
    "## 3 Results"
   ]
  },
  {
   "cell_type": "markdown",
   "metadata": {},
   "source": [
    "## 4 Discussion"
   ]
  },
  {
   "cell_type": "markdown",
   "metadata": {},
   "source": [
    "## 5 References"
   ]
  },
  {
   "cell_type": "markdown",
   "metadata": {},
   "source": [
    "[1] https://www.theurbanlist.com/nz/a-list/best-restaurants-wellington\n",
    "\n",
    "[2] https://thespinoff.co.nz/partner/woap2019/07-08-2019/why-wellington-is-the-worlds-best-food-city/\n",
    "\n",
    "[3] https://travel.nine.com.au/destinations/wellington-new-zealand-foodie-guide-eat-and-drink/e724be81-e8c6-4867-a536-063265968318\n",
    "\n",
    "[4] https://en.wikipedia.org/wiki/Auckland\n",
    "\n",
    "[5] https://en.wikipedia.org/wiki/Wellington\n",
    "\n",
    "[6] https://www.citypopulation.de/en/newzealand/wellington/\n",
    "\n",
    "[7] https://www.citypopulation.de/en/newzealand/auckland/"
   ]
  },
  {
   "cell_type": "code",
   "execution_count": null,
   "metadata": {},
   "outputs": [],
   "source": []
  }
 ],
 "metadata": {
  "kernelspec": {
   "display_name": "Python 3",
   "language": "python",
   "name": "python3"
  },
  "language_info": {
   "codemirror_mode": {
    "name": "ipython",
    "version": 3
   },
   "file_extension": ".py",
   "mimetype": "text/x-python",
   "name": "python",
   "nbconvert_exporter": "python",
   "pygments_lexer": "ipython3",
   "version": "3.8.2"
  }
 },
 "nbformat": 4,
 "nbformat_minor": 4
}
