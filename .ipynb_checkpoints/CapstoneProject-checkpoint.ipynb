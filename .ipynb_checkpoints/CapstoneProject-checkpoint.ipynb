{
 "cells": [
  {
   "cell_type": "markdown",
   "metadata": {},
   "source": [
    "# Applied Data Science Capstone\n",
    "This is the notebook that will contain the IBM Datascience - Applied Data Science Capstone Project"
   ]
  },
  {
   "cell_type": "code",
   "execution_count": 102,
   "metadata": {},
   "outputs": [
    {
     "name": "stderr",
     "output_type": "stream",
     "text": [
      "WARNING: You are using pip version 20.1.1; however, version 21.1.1 is available.\n",
      "You should consider upgrading via the 'c:\\users\\michael\\appdata\\local\\programs\\python\\python38\\python.exe -m pip install --upgrade pip' command.\n"
     ]
    },
    {
     "name": "stdout",
     "output_type": "stream",
     "text": [
      "Collecting geocoder\n",
      "  Downloading geocoder-1.38.1-py2.py3-none-any.whl (98 kB)\n",
      "Requirement already satisfied: click in c:\\users\\michael\\appdata\\local\\programs\\python\\python38\\lib\\site-packages (from geocoder) (7.0)\n",
      "Collecting ratelim\n",
      "  Downloading ratelim-0.1.6-py2.py3-none-any.whl (4.0 kB)\n",
      "Requirement already satisfied: future in c:\\users\\michael\\appdata\\local\\programs\\python\\python38\\lib\\site-packages (from geocoder) (0.18.2)\n",
      "Requirement already satisfied: requests in c:\\users\\michael\\appdata\\local\\programs\\python\\python38\\lib\\site-packages (from geocoder) (2.23.0)\n",
      "Requirement already satisfied: six in c:\\users\\michael\\appdata\\roaming\\python\\python38\\site-packages (from geocoder) (1.14.0)\n",
      "Requirement already satisfied: decorator in c:\\users\\michael\\appdata\\roaming\\python\\python38\\site-packages (from ratelim->geocoder) (4.4.2)\n",
      "Requirement already satisfied: idna<3,>=2.5 in c:\\users\\michael\\appdata\\local\\programs\\python\\python38\\lib\\site-packages (from requests->geocoder) (2.9)\n",
      "Requirement already satisfied: chardet<4,>=3.0.2 in c:\\users\\michael\\appdata\\local\\programs\\python\\python38\\lib\\site-packages (from requests->geocoder) (3.0.4)\n",
      "Requirement already satisfied: certifi>=2017.4.17 in c:\\users\\michael\\appdata\\local\\programs\\python\\python38\\lib\\site-packages (from requests->geocoder) (2019.11.28)\n",
      "Requirement already satisfied: urllib3!=1.25.0,!=1.25.1,<1.26,>=1.21.1 in c:\\users\\michael\\appdata\\local\\programs\\python\\python38\\lib\\site-packages (from requests->geocoder) (1.25.8)\n",
      "Installing collected packages: ratelim, geocoder\n",
      "Successfully installed geocoder-1.38.1 ratelim-0.1.6\n"
     ]
    }
   ],
   "source": [
    "#! pip install pandas\n",
    "#! pip install numpy\n",
    "#! pip install requests\n",
    "#! pip install beautifulsoup4\n",
    "#! pip install geocoder\n",
    "\n",
    "import pandas as pd\n",
    "import numpy as np\n",
    "import requests\n",
    "from bs4 import BeautifulSoup\n",
    "import geocoder"
   ]
  },
  {
   "cell_type": "code",
   "execution_count": 2,
   "metadata": {},
   "outputs": [
    {
     "name": "stdout",
     "output_type": "stream",
     "text": [
      "Hellow Capstone Project Course!\n"
     ]
    }
   ],
   "source": [
    "print('Hellow Capstone Project Course!')"
   ]
  },
  {
   "cell_type": "markdown",
   "metadata": {},
   "source": [
    "## Scrape Wikipedia for Toronto Postcodes"
   ]
  },
  {
   "cell_type": "markdown",
   "metadata": {},
   "source": [
    "Extract the rows from the main table in the `List of postal codes of Canada: M Wikipedia` page."
   ]
  },
  {
   "cell_type": "code",
   "execution_count": 84,
   "metadata": {},
   "outputs": [],
   "source": [
    "wikipedia_url = 'https://en.wikipedia.org/wiki/List_of_postal_codes_of_Canada:_M'\n",
    "postcodes = requests.get(wikipedia_url)\n",
    "postcode_soup = BeautifulSoup(postcodes.content, 'html.parser')\n",
    "tables = postcode_soup.find_all('table')\n",
    "postcode_table = tables[0]\n",
    "table_body = postcode_table.find('tbody')\n",
    "rows = table_body.find_all('tr')"
   ]
  },
  {
   "cell_type": "markdown",
   "metadata": {},
   "source": [
    "Iterate through the table rows and extract the test corresponding to the District + Neighbourhoods"
   ]
  },
  {
   "cell_type": "code",
   "execution_count": 93,
   "metadata": {},
   "outputs": [],
   "source": [
    "district_neighbourhoods = []\n",
    "for row in rows:\n",
    "    cols = row.find_all('td')\n",
    "    for cell in cols:\n",
    "        _text = cell.text.strip()[3:] #discard first 3 chars as they are the Postcode\n",
    "        if _text == 'Not assigned': #Ignore unassigned postcodes\n",
    "            continue\n",
    "        \n",
    "        #Several entries don't conform to the majority, just hardcoding a solution.\n",
    "        if _text == 'North York(Don Mills)North':\n",
    "            district_neighbourhoods.append('North York(Don Mills)')\n",
    "        elif _text == 'North York(Don Mills)South(Flemingdon Park)':\n",
    "            district_neighbourhoods.append('North York(Don Mills)')\n",
    "            district_neighbourhoods.append('South(Flemingdon Park)') \n",
    "        elif _text == 'North York(Downsview)East  (CFB Toronto)':\n",
    "            district_neighbourhoods.append('North York(Downsview)')\n",
    "            district_neighbourhoods.append('East(CFB Toronto)')\n",
    "        else:\n",
    "            district_neighbourhoods.append(_text) "
   ]
  },
  {
   "cell_type": "markdown",
   "metadata": {},
   "source": [
    "Create a list of `dicts` by spliting the district_neighbourhoods strings and create the DataFrame"
   ]
  },
  {
   "cell_type": "code",
   "execution_count": 100,
   "metadata": {},
   "outputs": [
    {
     "name": "stdout",
     "output_type": "stream",
     "text": [
      "(215, 2)\n"
     ]
    },
    {
     "data": {
      "text/html": [
       "<div>\n",
       "<style scoped>\n",
       "    .dataframe tbody tr th:only-of-type {\n",
       "        vertical-align: middle;\n",
       "    }\n",
       "\n",
       "    .dataframe tbody tr th {\n",
       "        vertical-align: top;\n",
       "    }\n",
       "\n",
       "    .dataframe thead th {\n",
       "        text-align: right;\n",
       "    }\n",
       "</style>\n",
       "<table border=\"1\" class=\"dataframe\">\n",
       "  <thead>\n",
       "    <tr style=\"text-align: right;\">\n",
       "      <th></th>\n",
       "      <th>district</th>\n",
       "      <th>neighbourhood</th>\n",
       "    </tr>\n",
       "  </thead>\n",
       "  <tbody>\n",
       "    <tr>\n",
       "      <th>0</th>\n",
       "      <td>North York</td>\n",
       "      <td>Parkwoods</td>\n",
       "    </tr>\n",
       "    <tr>\n",
       "      <th>1</th>\n",
       "      <td>North York</td>\n",
       "      <td>Victoria Village</td>\n",
       "    </tr>\n",
       "    <tr>\n",
       "      <th>2</th>\n",
       "      <td>Downtown Toronto</td>\n",
       "      <td>Regent Park</td>\n",
       "    </tr>\n",
       "    <tr>\n",
       "      <th>3</th>\n",
       "      <td>Downtown Toronto</td>\n",
       "      <td>Harbourfront</td>\n",
       "    </tr>\n",
       "    <tr>\n",
       "      <th>4</th>\n",
       "      <td>North York</td>\n",
       "      <td>Lawrence Manor</td>\n",
       "    </tr>\n",
       "  </tbody>\n",
       "</table>\n",
       "</div>"
      ],
      "text/plain": [
       "           district     neighbourhood\n",
       "0        North York         Parkwoods\n",
       "1        North York  Victoria Village\n",
       "2  Downtown Toronto       Regent Park\n",
       "3  Downtown Toronto      Harbourfront\n",
       "4        North York    Lawrence Manor"
      ]
     },
     "execution_count": 100,
     "metadata": {},
     "output_type": "execute_result"
    }
   ],
   "source": [
    "districts = []\n",
    "for i in district_neighbourhoods:\n",
    "    district, neighbourhoods = i.split('(')\n",
    "    neighbourhoods = neighbourhoods.replace(')', '')\n",
    "    neighbourhoods = neighbourhoods.split(' / ')\n",
    "    row_data = [{'district': district, 'neighbourhood': j} for j in neighbourhoods]\n",
    "    districts = [*districts, *row_data]\n",
    "#districts\n",
    "district_df = pd.DataFrame(districts)\n",
    "district_df.drop_duplicates(inplace=True)\n",
    "print(district_df.shape)\n",
    "district_df.head()"
   ]
  },
  {
   "cell_type": "code",
   "execution_count": 103,
   "metadata": {},
   "outputs": [],
   "source": [
    "g = geocoder.arcgis('Parkwoods, Toronto, Ontario')"
   ]
  },
  {
   "cell_type": "code",
   "execution_count": 104,
   "metadata": {},
   "outputs": [
    {
     "data": {
      "text/plain": [
       "[43.6865884896713, -79.40999620161057]"
      ]
     },
     "execution_count": 104,
     "metadata": {},
     "output_type": "execute_result"
    }
   ],
   "source": [
    "g.latlng"
   ]
  },
  {
   "cell_type": "code",
   "execution_count": null,
   "metadata": {},
   "outputs": [],
   "source": [
    "#iterate over rows, for each entry get the latln and append to df"
   ]
  }
 ],
 "metadata": {
  "kernelspec": {
   "display_name": "Python 3",
   "language": "python",
   "name": "python3"
  },
  "language_info": {
   "codemirror_mode": {
    "name": "ipython",
    "version": 3
   },
   "file_extension": ".py",
   "mimetype": "text/x-python",
   "name": "python",
   "nbconvert_exporter": "python",
   "pygments_lexer": "ipython3",
   "version": "3.8.2"
  }
 },
 "nbformat": 4,
 "nbformat_minor": 4
}
