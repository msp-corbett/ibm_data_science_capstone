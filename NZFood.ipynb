{
 "cells": [
  {
   "cell_type": "markdown",
   "metadata": {},
   "source": [
    "# Wellington: NZ's Food Capital?"
   ]
  },
  {
   "cell_type": "code",
   "execution_count": 2,
   "metadata": {},
   "outputs": [],
   "source": [
    "import pandas as pd"
   ]
  },
  {
   "cell_type": "markdown",
   "metadata": {},
   "source": [
    "## 1 Introduction"
   ]
  },
  {
   "cell_type": "markdown",
   "metadata": {},
   "source": [
    "### 1.1 Background"
   ]
  },
  {
   "cell_type": "markdown",
   "metadata": {},
   "source": [
    "**A description of the problem and a discussion of the background. (15 marks)**"
   ]
  },
  {
   "cell_type": "markdown",
   "metadata": {},
   "source": [
    "Wellington is the capital city of New Zealand (NZ). Despites its smaller size and population compared to NZ's largest city Auckland (303 km^2 and 607 km^2 respectively [4, 5]), it also has the reputation of being NZ's 'Food Capital'. Even being desribed as the world's best food city [1, 2, 3]. The problem with these artciles is that they are purely subjective. Can consumers, especially tourists that could spend large amounts of money to travel Wellington trust they are getting the best food expereince in New Zealand. I am interested in understanding if the geographical contraints, specifically population density, of Wellington contribute to its 'Food Scence' using Auckland as a comparison? Understanding if cities truely have unqiue food experiences is essential for maintaining the image and repuation of a city for tourism."
   ]
  },
  {
   "cell_type": "markdown",
   "metadata": {},
   "source": [
    "### 1.2 Datasets"
   ]
  },
  {
   "cell_type": "markdown",
   "metadata": {},
   "source": [
    "**A description of the data and how it will be used to solve the problem. (15 marks)**"
   ]
  },
  {
   "cell_type": "markdown",
   "metadata": {},
   "source": [
    "I will be using two datasets:\n",
    "\n",
    "1 - venue information available via the Foursquare API. Specifically, the venue category, location and likes.\n",
    "\n",
    "2 - Population information for Wellington and Auckland suburbs available via the 'City Population' website [6, 7].\n"
   ]
  },
  {
   "cell_type": "code",
   "execution_count": 4,
   "metadata": {},
   "outputs": [
    {
     "data": {
      "text/html": [
       "<div>\n",
       "<style scoped>\n",
       "    .dataframe tbody tr th:only-of-type {\n",
       "        vertical-align: middle;\n",
       "    }\n",
       "\n",
       "    .dataframe tbody tr th {\n",
       "        vertical-align: top;\n",
       "    }\n",
       "\n",
       "    .dataframe thead th {\n",
       "        text-align: right;\n",
       "    }\n",
       "</style>\n",
       "<table border=\"1\" class=\"dataframe\">\n",
       "  <thead>\n",
       "    <tr style=\"text-align: right;\">\n",
       "      <th></th>\n",
       "      <th>Suburb</th>\n",
       "      <th>1996</th>\n",
       "      <th>2001</th>\n",
       "      <th>2006</th>\n",
       "      <th>2013</th>\n",
       "      <th>2018</th>\n",
       "      <th>2020</th>\n",
       "    </tr>\n",
       "  </thead>\n",
       "  <tbody>\n",
       "    <tr>\n",
       "      <th>0</th>\n",
       "      <td>Akoranga</td>\n",
       "      <td>1,100</td>\n",
       "      <td>1,070</td>\n",
       "      <td>1,190</td>\n",
       "      <td>1,260</td>\n",
       "      <td>1,240</td>\n",
       "      <td>1,290</td>\n",
       "    </tr>\n",
       "    <tr>\n",
       "      <th>1</th>\n",
       "      <td>Albany Central</td>\n",
       "      <td>80</td>\n",
       "      <td>90</td>\n",
       "      <td>210</td>\n",
       "      <td>290</td>\n",
       "      <td>590</td>\n",
       "      <td>800</td>\n",
       "    </tr>\n",
       "    <tr>\n",
       "      <th>2</th>\n",
       "      <td>Albany Heights</td>\n",
       "      <td>440</td>\n",
       "      <td>600</td>\n",
       "      <td>1,760</td>\n",
       "      <td>2,400</td>\n",
       "      <td>3,400</td>\n",
       "      <td>3,790</td>\n",
       "    </tr>\n",
       "    <tr>\n",
       "      <th>3</th>\n",
       "      <td>Albany South</td>\n",
       "      <td>810</td>\n",
       "      <td>2,850</td>\n",
       "      <td>3,490</td>\n",
       "      <td>3,450</td>\n",
       "      <td>3,630</td>\n",
       "      <td>3,620</td>\n",
       "    </tr>\n",
       "    <tr>\n",
       "      <th>4</th>\n",
       "      <td>Albany West</td>\n",
       "      <td>230</td>\n",
       "      <td>1,430</td>\n",
       "      <td>2,180</td>\n",
       "      <td>2,550</td>\n",
       "      <td>2,990</td>\n",
       "      <td>2,920</td>\n",
       "    </tr>\n",
       "  </tbody>\n",
       "</table>\n",
       "</div>"
      ],
      "text/plain": [
       "           Suburb   1996   2001   2006   2013   2018   2020\n",
       "0        Akoranga  1,100  1,070  1,190  1,260  1,240  1,290\n",
       "1  Albany Central     80     90    210    290    590    800\n",
       "2  Albany Heights    440    600  1,760  2,400  3,400  3,790\n",
       "3    Albany South    810  2,850  3,490  3,450  3,630  3,620\n",
       "4     Albany West    230  1,430  2,180  2,550  2,990  2,920"
      ]
     },
     "execution_count": 4,
     "metadata": {},
     "output_type": "execute_result"
    }
   ],
   "source": [
    "# Example of the population information available.\n",
    "# Shows the population per suburb for a range of years.\n",
    "df_auckland = pd.read_csv('auckland_population.csv')\n",
    "df_auckland.head()"
   ]
  },
  {
   "cell_type": "markdown",
   "metadata": {},
   "source": [
    "By combining the number, type and popularity of venues with their populations I hope to understand if Wellington is providing a better food experience per capita. Additionally I am to test if a higher population offers a more diverse food experience."
   ]
  },
  {
   "cell_type": "markdown",
   "metadata": {},
   "source": [
    "## 2 Methodology"
   ]
  },
  {
   "cell_type": "markdown",
   "metadata": {},
   "source": [
    "## 3 Results"
   ]
  },
  {
   "cell_type": "markdown",
   "metadata": {},
   "source": [
    "## 4 Discussion"
   ]
  },
  {
   "cell_type": "markdown",
   "metadata": {},
   "source": [
    "## 5 References"
   ]
  },
  {
   "cell_type": "markdown",
   "metadata": {},
   "source": [
    "[1] https://www.theurbanlist.com/nz/a-list/best-restaurants-wellington\n",
    "\n",
    "[2] https://thespinoff.co.nz/partner/woap2019/07-08-2019/why-wellington-is-the-worlds-best-food-city/\n",
    "\n",
    "[3] https://travel.nine.com.au/destinations/wellington-new-zealand-foodie-guide-eat-and-drink/e724be81-e8c6-4867-a536-063265968318\n",
    "\n",
    "[4] https://en.wikipedia.org/wiki/Auckland\n",
    "\n",
    "[5] https://en.wikipedia.org/wiki/Wellington\n",
    "\n",
    "[6] https://www.citypopulation.de/en/newzealand/wellington/\n",
    "\n",
    "[7] https://www.citypopulation.de/en/newzealand/auckland/"
   ]
  },
  {
   "cell_type": "code",
   "execution_count": null,
   "metadata": {},
   "outputs": [],
   "source": []
  }
 ],
 "metadata": {
  "kernelspec": {
   "display_name": "Python 3",
   "language": "python",
   "name": "python3"
  },
  "language_info": {
   "codemirror_mode": {
    "name": "ipython",
    "version": 3
   },
   "file_extension": ".py",
   "mimetype": "text/x-python",
   "name": "python",
   "nbconvert_exporter": "python",
   "pygments_lexer": "ipython3",
   "version": "3.8.2"
  }
 },
 "nbformat": 4,
 "nbformat_minor": 4
}
